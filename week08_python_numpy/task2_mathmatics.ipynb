{
 "cells": [
  {
   "cell_type": "code",
   "execution_count": 1,
   "metadata": {},
   "outputs": [],
   "source": [
    "import numpy as np"
   ]
  },
  {
   "cell_type": "code",
   "execution_count": 5,
   "metadata": {},
   "outputs": [
    {
     "name": "stdout",
     "output_type": "stream",
     "text": [
      "76.0\n",
      "46.2\n",
      "28.38\n",
      "7.3538461538461535\n"
     ]
    }
   ],
   "source": [
    "#Q1\n",
    "print(np.add(2.0, 74.0))\n",
    "print(np.subtract(55.5, 9.3))\n",
    "print(np.multiply(4.3, 6.6))\n",
    "print(np.divide(478, 65))"
   ]
  },
  {
   "cell_type": "code",
   "execution_count": 11,
   "metadata": {},
   "outputs": [
    {
     "name": "stdout",
     "output_type": "stream",
     "text": [
      "[[0.64511047 0.56676045 0.0902557  0.69389123 0.7668822  0.90413014\n",
      "  0.04377607 0.35684652 0.65303717 0.14422823]]\n",
      "[[1. 1. 0. 1. 1. 1. 0. 0. 1. 0.]]\n"
     ]
    }
   ],
   "source": [
    "#q2 - round elements in an array\n",
    "\n",
    "test_array = np.random.rand(1, 10)\n",
    "print(test_array)\n",
    "\n",
    "nearestint_test_array = np.rint(test_array)\n",
    "print(nearestint_test_array)"
   ]
  },
  {
   "cell_type": "code",
   "execution_count": 13,
   "metadata": {},
   "outputs": [
    {
     "name": "stdout",
     "output_type": "stream",
     "text": [
      "[ 9  8  5  4  3  3  1  9  0 11]\n",
      "[2.25 2.   1.25 1.   0.75 0.75 0.25 2.25 0.   2.75]\n"
     ]
    }
   ],
   "source": [
    "#Q3 - get the true division of the element-wise array inputs\n",
    "new_array = np.random.randint(15, size=10)\n",
    "print(new_array)\n",
    "divided_new_array = np.true_divide(new_array, 4)\n",
    "print(divided_new_array)"
   ]
  },
  {
   "cell_type": "code",
   "execution_count": 16,
   "metadata": {},
   "outputs": [
    {
     "name": "stdout",
     "output_type": "stream",
     "text": [
      "Array one\n",
      "[[0.86051462 0.66090218 0.74376549]\n",
      " [0.79920425 0.07194923 0.82141077]\n",
      " [0.71185467 0.99585512 0.99166823]\n",
      " [0.05409942 0.24874236 0.0406866 ]\n",
      " [0.01719166 0.45215173 0.80614055]]\n",
      "Array two\n",
      "[[0.63408506 0.13109551]\n",
      " [0.25671665 0.39619834]\n",
      " [0.70275116 0.1441128 ]]\n",
      "Real matrix product\n",
      "[[1.23798611 0.48184407]\n",
      " [1.10248141 0.25165406]\n",
      " [1.403925   0.63078917]\n",
      " [0.1267525  0.11150696]\n",
      " [0.69349205 0.29757068]]\n"
     ]
    }
   ],
   "source": [
    "#Extension Q1\n",
    "array_one = np.random.rand(5,3)\n",
    "print('Array one')\n",
    "print(array_one)\n",
    "array_two = np.random.rand(3,2)\n",
    "print('Array two')\n",
    "print(array_two)\n",
    "real_matrix_product = np.dot(array_one, array_two)\n",
    "print('Real matrix product')\n",
    "print(real_matrix_product)"
   ]
  },
  {
   "cell_type": "code",
   "execution_count": 20,
   "metadata": {},
   "outputs": [
    {
     "name": "stdout",
     "output_type": "stream",
     "text": [
      "Avergae:\n",
      "246.912\n",
      "Standard Deviation:\n",
      "146.2896040598921\n",
      "Variance:\n",
      "21400.648255999997\n"
     ]
    }
   ],
   "source": [
    "#Extension Q2\n",
    "array_1000_element = np.random.randint(500, size=1000)\n",
    "print('Avergae:')\n",
    "mean_of_array = array_1000_element.mean()\n",
    "print(mean_of_array)\n",
    "print('Standard Deviation:')\n",
    "std_of_array = array_1000_element.std()\n",
    "print(std_of_array)\n",
    "print('Variance:')\n",
    "variance_of_array = array_1000_element.var()\n",
    "print(variance_of_array)"
   ]
  },
  {
   "cell_type": "code",
   "execution_count": 22,
   "metadata": {},
   "outputs": [
    {
     "name": "stdout",
     "output_type": "stream",
     "text": [
      "[12.9 34.6 11.5  2.4  4.6 52.1]\n",
      "Round:\n",
      "[13. 35. 12.  2.  5. 52.]\n",
      "Floor:\n",
      "[12. 34. 11.  2.  4. 52.]\n",
      "Ceil:\n",
      "[13. 35. 12.  3.  5. 53.]\n",
      "Trunc:\n",
      "[12. 34. 11.  2.  4. 52.]\n",
      "Round Input\n",
      "[13, 35, 12, 2, 5, 52]\n"
     ]
    }
   ],
   "source": [
    "#Extension Q3\n",
    "an_array = np.array([12.9, 34.6, 11.5, 2.4, 4.6, 52.1])\n",
    "print(an_array)\n",
    "print('Round:')\n",
    "rounded_arrary = np.around(an_array)\n",
    "print(rounded_arrary)\n",
    "print('Floor:')\n",
    "floor_array = np.floor(an_array)\n",
    "print(floor_array)\n",
    "print('Ceil:')\n",
    "ceil_array = np.ceil(an_array)\n",
    "print(ceil_array)\n",
    "print('Trunc:')\n",
    "trunc_array = np.trunc(an_array)\n",
    "print(trunc_array)\n",
    "print('Round Input')\n",
    "round_input_array = [round(input) for input in an_array]\n",
    "print(round_input_array)\n"
   ]
  },
  {
   "cell_type": "code",
   "execution_count": 23,
   "metadata": {},
   "outputs": [
    {
     "name": "stdout",
     "output_type": "stream",
     "text": [
      "[484 667 227 927 679 467 530 823 927 951]\n",
      "Max Element\n",
      "951\n",
      "Min Element\n",
      "227\n"
     ]
    }
   ],
   "source": [
    "#Extension Q$\n",
    "final_array = np.random.randint(1000, size=10)\n",
    "print(final_array)\n",
    "print('Max Element')\n",
    "max_element = np.amax(final_array)\n",
    "print(max_element)\n",
    "print('Min Element')\n",
    "min_element = np.amin(final_array)\n",
    "print(min_element)\n"
   ]
  }
 ],
 "metadata": {
  "kernelspec": {
   "display_name": "Python 3.10.4 64-bit",
   "language": "python",
   "name": "python3"
  },
  "language_info": {
   "codemirror_mode": {
    "name": "ipython",
    "version": 3
   },
   "file_extension": ".py",
   "mimetype": "text/x-python",
   "name": "python",
   "nbconvert_exporter": "python",
   "pygments_lexer": "ipython3",
   "version": "3.10.4"
  },
  "orig_nbformat": 4,
  "vscode": {
   "interpreter": {
    "hash": "916dbcbb3f70747c44a77c7bcd40155683ae19c65e1c03b4aa3499c5328201f1"
   }
  }
 },
 "nbformat": 4,
 "nbformat_minor": 2
}
