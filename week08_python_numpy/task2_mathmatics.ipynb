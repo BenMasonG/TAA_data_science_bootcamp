{
 "cells": [
  {
   "cell_type": "code",
   "execution_count": 1,
   "metadata": {},
   "outputs": [],
   "source": [
    "import numpy as np"
   ]
  },
  {
   "cell_type": "code",
   "execution_count": 5,
   "metadata": {},
   "outputs": [
    {
     "name": "stdout",
     "output_type": "stream",
     "text": [
      "76.0\n",
      "46.2\n",
      "28.38\n",
      "7.3538461538461535\n"
     ]
    }
   ],
   "source": [
    "#Q1\n",
    "print(np.add(2.0, 74.0))\n",
    "print(np.subtract(55.5, 9.3))\n",
    "print(np.multiply(4.3, 6.6))\n",
    "print(np.divide(478, 65))"
   ]
  },
  {
   "cell_type": "code",
   "execution_count": 11,
   "metadata": {},
   "outputs": [
    {
     "name": "stdout",
     "output_type": "stream",
     "text": [
      "[[0.64511047 0.56676045 0.0902557  0.69389123 0.7668822  0.90413014\n",
      "  0.04377607 0.35684652 0.65303717 0.14422823]]\n",
      "[[1. 1. 0. 1. 1. 1. 0. 0. 1. 0.]]\n"
     ]
    }
   ],
   "source": [
    "#q2 - round elements in an array\n",
    "\n",
    "test_array = np.random.rand(1, 10)\n",
    "print(test_array)\n",
    "\n",
    "nearestint_test_array = np.rint(test_array)\n",
    "print(nearestint_test_array)"
   ]
  },
  {
   "cell_type": "code",
   "execution_count": 13,
   "metadata": {},
   "outputs": [
    {
     "name": "stdout",
     "output_type": "stream",
     "text": [
      "[ 9  8  5  4  3  3  1  9  0 11]\n",
      "[2.25 2.   1.25 1.   0.75 0.75 0.25 2.25 0.   2.75]\n"
     ]
    }
   ],
   "source": [
    "#Q3 - get the true division of the element-wise array inputs\n",
    "new_array = np.random.randint(15, size=10)\n",
    "print(new_array)\n",
    "divided_new_array = np.true_divide(new_array, 4)\n",
    "print(divided_new_array)"
   ]
  }
 ],
 "metadata": {
  "kernelspec": {
   "display_name": "Python 3.10.4 64-bit",
   "language": "python",
   "name": "python3"
  },
  "language_info": {
   "codemirror_mode": {
    "name": "ipython",
    "version": 3
   },
   "file_extension": ".py",
   "mimetype": "text/x-python",
   "name": "python",
   "nbconvert_exporter": "python",
   "pygments_lexer": "ipython3",
   "version": "3.10.4"
  },
  "orig_nbformat": 4,
  "vscode": {
   "interpreter": {
    "hash": "916dbcbb3f70747c44a77c7bcd40155683ae19c65e1c03b4aa3499c5328201f1"
   }
  }
 },
 "nbformat": 4,
 "nbformat_minor": 2
}
