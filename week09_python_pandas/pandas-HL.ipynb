{
 "cells": [
  {
   "cell_type": "markdown",
   "metadata": {},
   "source": [
    "### HOME LEARNING- PANDAS SESSION"
   ]
  },
  {
   "cell_type": "markdown",
   "metadata": {},
   "source": [
    "### Task 1: Creating a Pandas dataframe"
   ]
  },
  {
   "cell_type": "code",
   "execution_count": 6,
   "metadata": {},
   "outputs": [
    {
     "name": "stdout",
     "output_type": "stream",
     "text": [
      "    0   1\n",
      "A  78  21\n",
      "B  34  87\n",
      "C  51  81\n"
     ]
    }
   ],
   "source": [
    "#Create a dataframe that contains 2 columns and 3 rows using a numpy array, \n",
    "#using numbers of your choice to fill the array:\n",
    "\n",
    "# 1- Import the numpy library\n",
    "# 2- Create your numpy array with random numbers\n",
    "# 3- Create a variable that contains a row index list\n",
    "# 4- Create a a variable that contains a column index list\n",
    "# 5- Pass the different variables in the pandas dataframe function pd.DataFrame()\n",
    "\n",
    "#Put your code below:\n",
    "import numpy as np\n",
    "import pandas as pd\n",
    "array1 = np.random.randint(0, 101,(3,2))\n",
    "row_index1 = ['A', 'B', 'C']\n",
    "column_index1 = [0, 1]\n",
    "test_dataframe = pd.DataFrame(data=array1 ,index=row_index1, columns=column_index1)\n",
    "print(test_dataframe)\n",
    "\n"
   ]
  },
  {
   "cell_type": "markdown",
   "metadata": {},
   "source": [
    "### Task 2: Importing and exploring a Pandas dataframe:"
   ]
  },
  {
   "cell_type": "code",
   "execution_count": 11,
   "metadata": {},
   "outputs": [
    {
     "data": {
      "text/html": [
       "<div>\n",
       "<style scoped>\n",
       "    .dataframe tbody tr th:only-of-type {\n",
       "        vertical-align: middle;\n",
       "    }\n",
       "\n",
       "    .dataframe tbody tr th {\n",
       "        vertical-align: top;\n",
       "    }\n",
       "\n",
       "    .dataframe thead th {\n",
       "        text-align: right;\n",
       "    }\n",
       "</style>\n",
       "<table border=\"1\" class=\"dataframe\">\n",
       "  <thead>\n",
       "    <tr style=\"text-align: right;\">\n",
       "      <th></th>\n",
       "      <th>Entity</th>\n",
       "      <th>Code</th>\n",
       "      <th>Year</th>\n",
       "      <th>Monthly active users</th>\n",
       "    </tr>\n",
       "  </thead>\n",
       "  <tbody>\n",
       "    <tr>\n",
       "      <th>0</th>\n",
       "      <td>Facebook</td>\n",
       "      <td>NaN</td>\n",
       "      <td>2008</td>\n",
       "      <td>100000000</td>\n",
       "    </tr>\n",
       "    <tr>\n",
       "      <th>1</th>\n",
       "      <td>Facebook</td>\n",
       "      <td>NaN</td>\n",
       "      <td>2009</td>\n",
       "      <td>276000000</td>\n",
       "    </tr>\n",
       "    <tr>\n",
       "      <th>2</th>\n",
       "      <td>Facebook</td>\n",
       "      <td>NaN</td>\n",
       "      <td>2010</td>\n",
       "      <td>517750000</td>\n",
       "    </tr>\n",
       "    <tr>\n",
       "      <th>3</th>\n",
       "      <td>Facebook</td>\n",
       "      <td>NaN</td>\n",
       "      <td>2011</td>\n",
       "      <td>766000000</td>\n",
       "    </tr>\n",
       "    <tr>\n",
       "      <th>4</th>\n",
       "      <td>Facebook</td>\n",
       "      <td>NaN</td>\n",
       "      <td>2012</td>\n",
       "      <td>979750000</td>\n",
       "    </tr>\n",
       "  </tbody>\n",
       "</table>\n",
       "</div>"
      ],
      "text/plain": [
       "     Entity  Code  Year  Monthly active users\n",
       "0  Facebook   NaN  2008             100000000\n",
       "1  Facebook   NaN  2009             276000000\n",
       "2  Facebook   NaN  2010             517750000\n",
       "3  Facebook   NaN  2011             766000000\n",
       "4  Facebook   NaN  2012             979750000"
      ]
     },
     "execution_count": 11,
     "metadata": {},
     "output_type": "execute_result"
    }
   ],
   "source": [
    "#Import the file named users-socialmedia.csv:\n",
    "\n",
    "# 1- Import the pandas library\n",
    "# 2- Create a variable that contains the path of your file\n",
    "# 3- Use the method pd.read_csv()to read your file\n",
    "# 4- Explore your imported dataframe with the head() method\n",
    "\n",
    "#Put your code below:\n",
    "path_datafile = ('/home/ben/projects/data_science_bootcamp/week09_python_pandas/users-socialmedia.csv')\n",
    "df = pd.read_csv(path_datafile)\n",
    "df.head()\n"
   ]
  },
  {
   "cell_type": "code",
   "execution_count": 15,
   "metadata": {},
   "outputs": [
    {
     "name": "stdout",
     "output_type": "stream",
     "text": [
      "142\n",
      "4\n"
     ]
    }
   ],
   "source": [
    "#How many columns and rows has the data\n",
    "row_count = len(df)\n",
    "print(row_count)\n",
    "col_count = len(df.columns)\n",
    "print(col_count)\n"
   ]
  },
  {
   "cell_type": "code",
   "execution_count": 19,
   "metadata": {},
   "outputs": [
    {
     "name": "stdout",
     "output_type": "stream",
     "text": [
      "Entity                    0\n",
      "Code                    142\n",
      "Year                      0\n",
      "Monthly active users      0\n",
      "dtype: int64\n",
      "Entity                    0\n",
      "Code                    142\n",
      "Year                      0\n",
      "Monthly active users      0\n",
      "dtype: int64\n"
     ]
    }
   ],
   "source": [
    "#How many missing values the dataframe has?\n",
    "print(df.isnull().sum())\n",
    "print(df.isna().sum())"
   ]
  },
  {
   "cell_type": "markdown",
   "metadata": {},
   "source": [
    "### Task 3: Data filtering"
   ]
  },
  {
   "cell_type": "code",
   "execution_count": 24,
   "metadata": {},
   "outputs": [
    {
     "name": "stdout",
     "output_type": "stream",
     "text": [
      "       Entity\n",
      "0    Facebook\n",
      "1    Facebook\n",
      "2    Facebook\n",
      "3    Facebook\n",
      "4    Facebook\n",
      "..        ...\n",
      "137   YouTube\n",
      "138   YouTube\n",
      "139   YouTube\n",
      "140   YouTube\n",
      "141   YouTube\n",
      "\n",
      "[142 rows x 1 columns]\n"
     ]
    }
   ],
   "source": [
    "#Select the column named \"entity\":\n",
    "column_select = df[['Entity']]\n",
    "print(column_select)"
   ]
  },
  {
   "cell_type": "code",
   "execution_count": 29,
   "metadata": {},
   "outputs": [
    {
     "name": "stdout",
     "output_type": "stream",
     "text": [
      "276000000\n"
     ]
    }
   ],
   "source": [
    "#Select the second row of the column monthly active users using the .loc command:\n",
    "print(df.loc[1, 'Monthly active users'])\n"
   ]
  },
  {
   "cell_type": "code",
   "execution_count": 31,
   "metadata": {},
   "outputs": [
    {
     "name": "stdout",
     "output_type": "stream",
     "text": [
      "Entity                   Facebook\n",
      "Code                          NaN\n",
      "Year                         2009\n",
      "Monthly active users    276000000\n",
      "Name: 1, dtype: object\n"
     ]
    }
   ],
   "source": [
    "#Select the second row of the dataframe using the .loc command:\n",
    "print(df.iloc[1])\n"
   ]
  },
  {
   "cell_type": "code",
   "execution_count": 32,
   "metadata": {},
   "outputs": [
    {
     "data": {
      "text/html": [
       "<div>\n",
       "<style scoped>\n",
       "    .dataframe tbody tr th:only-of-type {\n",
       "        vertical-align: middle;\n",
       "    }\n",
       "\n",
       "    .dataframe tbody tr th {\n",
       "        vertical-align: top;\n",
       "    }\n",
       "\n",
       "    .dataframe thead th {\n",
       "        text-align: right;\n",
       "    }\n",
       "</style>\n",
       "<table border=\"1\" class=\"dataframe\">\n",
       "  <thead>\n",
       "    <tr style=\"text-align: right;\">\n",
       "      <th></th>\n",
       "      <th>Social media App</th>\n",
       "      <th>Code</th>\n",
       "      <th>Year</th>\n",
       "      <th>Monthly active users</th>\n",
       "    </tr>\n",
       "  </thead>\n",
       "  <tbody>\n",
       "    <tr>\n",
       "      <th>0</th>\n",
       "      <td>Facebook</td>\n",
       "      <td>NaN</td>\n",
       "      <td>2008</td>\n",
       "      <td>100000000</td>\n",
       "    </tr>\n",
       "    <tr>\n",
       "      <th>1</th>\n",
       "      <td>Facebook</td>\n",
       "      <td>NaN</td>\n",
       "      <td>2009</td>\n",
       "      <td>276000000</td>\n",
       "    </tr>\n",
       "    <tr>\n",
       "      <th>2</th>\n",
       "      <td>Facebook</td>\n",
       "      <td>NaN</td>\n",
       "      <td>2010</td>\n",
       "      <td>517750000</td>\n",
       "    </tr>\n",
       "    <tr>\n",
       "      <th>3</th>\n",
       "      <td>Facebook</td>\n",
       "      <td>NaN</td>\n",
       "      <td>2011</td>\n",
       "      <td>766000000</td>\n",
       "    </tr>\n",
       "    <tr>\n",
       "      <th>4</th>\n",
       "      <td>Facebook</td>\n",
       "      <td>NaN</td>\n",
       "      <td>2012</td>\n",
       "      <td>979750000</td>\n",
       "    </tr>\n",
       "    <tr>\n",
       "      <th>...</th>\n",
       "      <td>...</td>\n",
       "      <td>...</td>\n",
       "      <td>...</td>\n",
       "      <td>...</td>\n",
       "    </tr>\n",
       "    <tr>\n",
       "      <th>137</th>\n",
       "      <td>YouTube</td>\n",
       "      <td>NaN</td>\n",
       "      <td>2014</td>\n",
       "      <td>1249451725</td>\n",
       "    </tr>\n",
       "    <tr>\n",
       "      <th>138</th>\n",
       "      <td>YouTube</td>\n",
       "      <td>NaN</td>\n",
       "      <td>2015</td>\n",
       "      <td>1328133360</td>\n",
       "    </tr>\n",
       "    <tr>\n",
       "      <th>139</th>\n",
       "      <td>YouTube</td>\n",
       "      <td>NaN</td>\n",
       "      <td>2016</td>\n",
       "      <td>1399053600</td>\n",
       "    </tr>\n",
       "    <tr>\n",
       "      <th>140</th>\n",
       "      <td>YouTube</td>\n",
       "      <td>NaN</td>\n",
       "      <td>2017</td>\n",
       "      <td>1495657000</td>\n",
       "    </tr>\n",
       "    <tr>\n",
       "      <th>141</th>\n",
       "      <td>YouTube</td>\n",
       "      <td>NaN</td>\n",
       "      <td>2018</td>\n",
       "      <td>1900000000</td>\n",
       "    </tr>\n",
       "  </tbody>\n",
       "</table>\n",
       "<p>142 rows × 4 columns</p>\n",
       "</div>"
      ],
      "text/plain": [
       "    Social media App  Code  Year  Monthly active users\n",
       "0           Facebook   NaN  2008             100000000\n",
       "1           Facebook   NaN  2009             276000000\n",
       "2           Facebook   NaN  2010             517750000\n",
       "3           Facebook   NaN  2011             766000000\n",
       "4           Facebook   NaN  2012             979750000\n",
       "..               ...   ...   ...                   ...\n",
       "137          YouTube   NaN  2014            1249451725\n",
       "138          YouTube   NaN  2015            1328133360\n",
       "139          YouTube   NaN  2016            1399053600\n",
       "140          YouTube   NaN  2017            1495657000\n",
       "141          YouTube   NaN  2018            1900000000\n",
       "\n",
       "[142 rows x 4 columns]"
      ]
     },
     "execution_count": 32,
     "metadata": {},
     "output_type": "execute_result"
    }
   ],
   "source": [
    "#Rename the column 'Entity' to 'Social media App':\n",
    "df.rename(columns={'Entity':'Social media App'})\n"
   ]
  },
  {
   "cell_type": "code",
   "execution_count": 33,
   "metadata": {},
   "outputs": [
    {
     "data": {
      "text/html": [
       "<div>\n",
       "<style scoped>\n",
       "    .dataframe tbody tr th:only-of-type {\n",
       "        vertical-align: middle;\n",
       "    }\n",
       "\n",
       "    .dataframe tbody tr th {\n",
       "        vertical-align: top;\n",
       "    }\n",
       "\n",
       "    .dataframe thead th {\n",
       "        text-align: right;\n",
       "    }\n",
       "</style>\n",
       "<table border=\"1\" class=\"dataframe\">\n",
       "  <thead>\n",
       "    <tr style=\"text-align: right;\">\n",
       "      <th></th>\n",
       "      <th>Entity</th>\n",
       "      <th>Year</th>\n",
       "      <th>Monthly active users</th>\n",
       "    </tr>\n",
       "  </thead>\n",
       "  <tbody>\n",
       "    <tr>\n",
       "      <th>0</th>\n",
       "      <td>Facebook</td>\n",
       "      <td>2008</td>\n",
       "      <td>100000000</td>\n",
       "    </tr>\n",
       "    <tr>\n",
       "      <th>1</th>\n",
       "      <td>Facebook</td>\n",
       "      <td>2009</td>\n",
       "      <td>276000000</td>\n",
       "    </tr>\n",
       "    <tr>\n",
       "      <th>2</th>\n",
       "      <td>Facebook</td>\n",
       "      <td>2010</td>\n",
       "      <td>517750000</td>\n",
       "    </tr>\n",
       "    <tr>\n",
       "      <th>3</th>\n",
       "      <td>Facebook</td>\n",
       "      <td>2011</td>\n",
       "      <td>766000000</td>\n",
       "    </tr>\n",
       "    <tr>\n",
       "      <th>4</th>\n",
       "      <td>Facebook</td>\n",
       "      <td>2012</td>\n",
       "      <td>979750000</td>\n",
       "    </tr>\n",
       "    <tr>\n",
       "      <th>...</th>\n",
       "      <td>...</td>\n",
       "      <td>...</td>\n",
       "      <td>...</td>\n",
       "    </tr>\n",
       "    <tr>\n",
       "      <th>137</th>\n",
       "      <td>YouTube</td>\n",
       "      <td>2014</td>\n",
       "      <td>1249451725</td>\n",
       "    </tr>\n",
       "    <tr>\n",
       "      <th>138</th>\n",
       "      <td>YouTube</td>\n",
       "      <td>2015</td>\n",
       "      <td>1328133360</td>\n",
       "    </tr>\n",
       "    <tr>\n",
       "      <th>139</th>\n",
       "      <td>YouTube</td>\n",
       "      <td>2016</td>\n",
       "      <td>1399053600</td>\n",
       "    </tr>\n",
       "    <tr>\n",
       "      <th>140</th>\n",
       "      <td>YouTube</td>\n",
       "      <td>2017</td>\n",
       "      <td>1495657000</td>\n",
       "    </tr>\n",
       "    <tr>\n",
       "      <th>141</th>\n",
       "      <td>YouTube</td>\n",
       "      <td>2018</td>\n",
       "      <td>1900000000</td>\n",
       "    </tr>\n",
       "  </tbody>\n",
       "</table>\n",
       "<p>142 rows × 3 columns</p>\n",
       "</div>"
      ],
      "text/plain": [
       "       Entity  Year  Monthly active users\n",
       "0    Facebook  2008             100000000\n",
       "1    Facebook  2009             276000000\n",
       "2    Facebook  2010             517750000\n",
       "3    Facebook  2011             766000000\n",
       "4    Facebook  2012             979750000\n",
       "..        ...   ...                   ...\n",
       "137   YouTube  2014            1249451725\n",
       "138   YouTube  2015            1328133360\n",
       "139   YouTube  2016            1399053600\n",
       "140   YouTube  2017            1495657000\n",
       "141   YouTube  2018            1900000000\n",
       "\n",
       "[142 rows x 3 columns]"
      ]
     },
     "execution_count": 33,
     "metadata": {},
     "output_type": "execute_result"
    }
   ],
   "source": [
    "#Drop the column named 'Code' from the dataframe:\n",
    "df.drop('Code', axis=1)"
   ]
  },
  {
   "cell_type": "code",
   "execution_count": 35,
   "metadata": {},
   "outputs": [
    {
     "data": {
      "text/html": [
       "<div>\n",
       "<style scoped>\n",
       "    .dataframe tbody tr th:only-of-type {\n",
       "        vertical-align: middle;\n",
       "    }\n",
       "\n",
       "    .dataframe tbody tr th {\n",
       "        vertical-align: top;\n",
       "    }\n",
       "\n",
       "    .dataframe thead th {\n",
       "        text-align: right;\n",
       "    }\n",
       "</style>\n",
       "<table border=\"1\" class=\"dataframe\">\n",
       "  <thead>\n",
       "    <tr style=\"text-align: right;\">\n",
       "      <th></th>\n",
       "      <th>Entity</th>\n",
       "      <th>Code</th>\n",
       "      <th>Year</th>\n",
       "      <th>Monthly active users</th>\n",
       "    </tr>\n",
       "  </thead>\n",
       "  <tbody>\n",
       "    <tr>\n",
       "      <th>11</th>\n",
       "      <td>Facebook</td>\n",
       "      <td>NaN</td>\n",
       "      <td>2019</td>\n",
       "      <td>2375000000</td>\n",
       "    </tr>\n",
       "    <tr>\n",
       "      <th>76</th>\n",
       "      <td>Pinterest</td>\n",
       "      <td>NaN</td>\n",
       "      <td>2019</td>\n",
       "      <td>291000000</td>\n",
       "    </tr>\n",
       "    <tr>\n",
       "      <th>105</th>\n",
       "      <td>Twitter</td>\n",
       "      <td>NaN</td>\n",
       "      <td>2019</td>\n",
       "      <td>330000000</td>\n",
       "    </tr>\n",
       "  </tbody>\n",
       "</table>\n",
       "</div>"
      ],
      "text/plain": [
       "        Entity  Code  Year  Monthly active users\n",
       "11    Facebook   NaN  2019            2375000000\n",
       "76   Pinterest   NaN  2019             291000000\n",
       "105    Twitter   NaN  2019             330000000"
      ]
     },
     "execution_count": 35,
     "metadata": {},
     "output_type": "execute_result"
    }
   ],
   "source": [
    "#Filter the data by displaying data with date >2018:\n",
    "df[df['Year']>2018]"
   ]
  },
  {
   "cell_type": "code",
   "execution_count": 39,
   "metadata": {},
   "outputs": [
    {
     "data": {
      "text/html": [
       "<div>\n",
       "<style scoped>\n",
       "    .dataframe tbody tr th:only-of-type {\n",
       "        vertical-align: middle;\n",
       "    }\n",
       "\n",
       "    .dataframe tbody tr th {\n",
       "        vertical-align: top;\n",
       "    }\n",
       "\n",
       "    .dataframe thead th {\n",
       "        text-align: right;\n",
       "    }\n",
       "</style>\n",
       "<table border=\"1\" class=\"dataframe\">\n",
       "  <thead>\n",
       "    <tr style=\"text-align: right;\">\n",
       "      <th></th>\n",
       "      <th>Entity</th>\n",
       "      <th>Code</th>\n",
       "      <th>Year</th>\n",
       "      <th>Monthly active users</th>\n",
       "    </tr>\n",
       "  </thead>\n",
       "  <tbody>\n",
       "    <tr>\n",
       "      <th>11</th>\n",
       "      <td>Facebook</td>\n",
       "      <td>NaN</td>\n",
       "      <td>2019</td>\n",
       "      <td>2375000000</td>\n",
       "    </tr>\n",
       "  </tbody>\n",
       "</table>\n",
       "</div>"
      ],
      "text/plain": [
       "      Entity  Code  Year  Monthly active users\n",
       "11  Facebook   NaN  2019            2375000000"
      ]
     },
     "execution_count": 39,
     "metadata": {},
     "output_type": "execute_result"
    }
   ],
   "source": [
    "#Filter the data by displaying data >2018 and containing facebook data only:\n",
    "df[(df['Year']>2018) & (df['Entity']=='Facebook')]\n"
   ]
  },
  {
   "cell_type": "code",
   "execution_count": null,
   "metadata": {},
   "outputs": [],
   "source": [
    "#Count unique values in the 'Social media App' column:"
   ]
  },
  {
   "cell_type": "markdown",
   "metadata": {},
   "source": [
    "### Task4: Data calculation and plotting"
   ]
  },
  {
   "cell_type": "code",
   "execution_count": null,
   "metadata": {},
   "outputs": [],
   "source": [
    "#Calculate the mean of Monthly active users per Social media App using the groupby() method,\n",
    "# and the mean calculation method in one line of code only:"
   ]
  },
  {
   "cell_type": "code",
   "execution_count": null,
   "metadata": {},
   "outputs": [],
   "source": [
    "#Plot the Social media App along with their Monthly active users using the seaborn library:\n",
    "\n",
    "# 1-Import the seaborn library\n",
    "# 2- Define your x and y axis to feed the sns.barplot() function\n",
    "\n",
    "#Put your code below:\n"
   ]
  },
  {
   "cell_type": "markdown",
   "metadata": {},
   "source": [
    "### It is hard to read the x axis of our plot above. It is common to resize figures in\n",
    "### order to visualise plots more properly (it is not an automatic feature of python)"
   ]
  },
  {
   "cell_type": "code",
   "execution_count": 25,
   "metadata": {},
   "outputs": [
    {
     "data": {
      "image/png": "[encoded data removed]",
      "text/plain": [
       "<Figure size 1224x288 with 1 Axes>"
      ]
     },
     "metadata": {
      "needs_background": "light"
     },
     "output_type": "display_data"
    }
   ],
   "source": [
    "#To resize figures, we need to import another visualisation library called Matplotlib:\n",
    "import matplotlib.pyplot as plt\n",
    "plt.figure(figsize=(17,4)) # figsize= (Width, height in inches)\n",
    "sns.barplot(data=dataframe, x='Social media App', y='Monthly active users')\n",
    "plt.show()"
   ]
  },
  {
   "cell_type": "markdown",
   "metadata": {},
   "source": [
    "### Now our plot looks bigger in width and it's easier to read the x axis to comment our graph. "
   ]
  },
  {
   "cell_type": "code",
   "execution_count": 26,
   "metadata": {},
   "outputs": [],
   "source": [
    "#Comments the graph regarding the number of monthly active users across different social media apps:\n",
    "# Which social media apps have the highest and lowest number of active users per month?\n"
   ]
  },
  {
   "cell_type": "markdown",
   "metadata": {},
   "source": [
    "### OPTIONAL TASK"
   ]
  },
  {
   "cell_type": "code",
   "execution_count": 30,
   "metadata": {},
   "outputs": [
    {
     "data": {
      "text/html": [
       "<div>\n",
       "<style scoped>\n",
       "    .dataframe tbody tr th:only-of-type {\n",
       "        vertical-align: middle;\n",
       "    }\n",
       "\n",
       "    .dataframe tbody tr th {\n",
       "        vertical-align: top;\n",
       "    }\n",
       "\n",
       "    .dataframe thead th {\n",
       "        text-align: right;\n",
       "    }\n",
       "</style>\n",
       "<table border=\"1\" class=\"dataframe\">\n",
       "  <thead>\n",
       "    <tr style=\"text-align: right;\">\n",
       "      <th></th>\n",
       "      <th>Social media App</th>\n",
       "      <th>Year</th>\n",
       "      <th>Monthly active users</th>\n",
       "    </tr>\n",
       "  </thead>\n",
       "  <tbody>\n",
       "    <tr>\n",
       "      <th>0</th>\n",
       "      <td>Facebook</td>\n",
       "      <td>2008</td>\n",
       "      <td>100000000</td>\n",
       "    </tr>\n",
       "    <tr>\n",
       "      <th>1</th>\n",
       "      <td>Facebook</td>\n",
       "      <td>2009</td>\n",
       "      <td>276000000</td>\n",
       "    </tr>\n",
       "    <tr>\n",
       "      <th>2</th>\n",
       "      <td>Facebook</td>\n",
       "      <td>2010</td>\n",
       "      <td>517750000</td>\n",
       "    </tr>\n",
       "    <tr>\n",
       "      <th>3</th>\n",
       "      <td>Facebook</td>\n",
       "      <td>2011</td>\n",
       "      <td>766000000</td>\n",
       "    </tr>\n",
       "    <tr>\n",
       "      <th>4</th>\n",
       "      <td>Facebook</td>\n",
       "      <td>2012</td>\n",
       "      <td>979750000</td>\n",
       "    </tr>\n",
       "    <tr>\n",
       "      <th>...</th>\n",
       "      <td>...</td>\n",
       "      <td>...</td>\n",
       "      <td>...</td>\n",
       "    </tr>\n",
       "    <tr>\n",
       "      <th>137</th>\n",
       "      <td>YouTube</td>\n",
       "      <td>2014</td>\n",
       "      <td>1249451725</td>\n",
       "    </tr>\n",
       "    <tr>\n",
       "      <th>138</th>\n",
       "      <td>YouTube</td>\n",
       "      <td>2015</td>\n",
       "      <td>1328133360</td>\n",
       "    </tr>\n",
       "    <tr>\n",
       "      <th>139</th>\n",
       "      <td>YouTube</td>\n",
       "      <td>2016</td>\n",
       "      <td>1399053600</td>\n",
       "    </tr>\n",
       "    <tr>\n",
       "      <th>140</th>\n",
       "      <td>YouTube</td>\n",
       "      <td>2017</td>\n",
       "      <td>1495657000</td>\n",
       "    </tr>\n",
       "    <tr>\n",
       "      <th>141</th>\n",
       "      <td>YouTube</td>\n",
       "      <td>2018</td>\n",
       "      <td>1900000000</td>\n",
       "    </tr>\n",
       "  </tbody>\n",
       "</table>\n",
       "<p>142 rows × 3 columns</p>\n",
       "</div>"
      ],
      "text/plain": [
       "    Social media App  Year  Monthly active users\n",
       "0           Facebook  2008             100000000\n",
       "1           Facebook  2009             276000000\n",
       "2           Facebook  2010             517750000\n",
       "3           Facebook  2011             766000000\n",
       "4           Facebook  2012             979750000\n",
       "..               ...   ...                   ...\n",
       "137          YouTube  2014            1249451725\n",
       "138          YouTube  2015            1328133360\n",
       "139          YouTube  2016            1399053600\n",
       "140          YouTube  2017            1495657000\n",
       "141          YouTube  2018            1900000000\n",
       "\n",
       "[142 rows x 3 columns]"
      ]
     },
     "execution_count": 30,
     "metadata": {},
     "output_type": "execute_result"
    }
   ],
   "source": [
    "#Calculate the mean of Monthly active users per Social media App and per year using the groupby() method\n",
    "# in one line of code only:\n"
   ]
  },
  {
   "cell_type": "markdown",
   "metadata": {},
   "source": [
    "### Advanced plotting for your own curiosity:"
   ]
  },
  {
   "cell_type": "code",
   "execution_count": 44,
   "metadata": {},
   "outputs": [
    {
     "data": {
      "image/png": "[encoded data removed]",
      "text/plain": [
       "<Figure size 1440x720 with 1 Axes>"
      ]
     },
     "metadata": {
      "needs_background": "light"
     },
     "output_type": "display_data"
    }
   ],
   "source": [
    "# Advanced plotting for your curiosity:\n",
    "df=dataframe.groupby([\"Social media App\", \"Year\"],as_index=False)[\"Monthly active users\"].mean()\n",
    "plt.figure(figsize=(20,10)) # figsize= (Width, height in inches)\n",
    "sns.barplot(data=df, x='Year', y='Monthly active users', hue= \"Social media App\")\n",
    "plt.legend(loc='upper left')\n",
    "plt.show()"
   ]
  }
 ],
 "metadata": {
  "kernelspec": {
   "display_name": "Python 3.10.4 64-bit",
   "language": "python",
   "name": "python3"
  },
  "language_info": {
   "codemirror_mode": {
    "name": "ipython",
    "version": 3
   },
   "file_extension": ".py",
   "mimetype": "text/x-python",
   "name": "python",
   "nbconvert_exporter": "python",
   "pygments_lexer": "ipython3",
   "version": "3.10.4"
  },
  "orig_nbformat": 4,
  "vscode": {
   "interpreter": {
    "hash": "916dbcbb3f70747c44a77c7bcd40155683ae19c65e1c03b4aa3499c5328201f1"
   }
  }
 },
 "nbformat": 4,
 "nbformat_minor": 2
}
